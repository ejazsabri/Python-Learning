{
 "cells": [
  {
   "cell_type": "markdown",
   "id": "a1577562",
   "metadata": {},
   "source": [
    "## Assignment # 4"
   ]
  },
  {
   "cell_type": "markdown",
   "id": "66199291",
   "metadata": {},
   "source": [
    "## 1. Make a calculator using Python with addition , subtraction , multiplication ,division and power."
   ]
  },
  {
   "cell_type": "code",
   "execution_count": 3,
   "id": "ba518aa8",
   "metadata": {},
   "outputs": [
    {
     "name": "stdout",
     "output_type": "stream",
     "text": [
      "Select operation.\n",
      "1.Add\n",
      "2.Subtract\n",
      "3.Multiply\n",
      "4.Divide\n",
      "5.Power\n",
      "Enter choice(1/2/3/4/5): 5\n",
      "Enter first number: 3\n",
      "Enter second number: 2\n",
      "3.0 ** 2.0 = 9.0\n",
      "Let's do next calculation? (yes/no): no\n"
     ]
    }
   ],
   "source": [
    "# Program make a simple calculator\n",
    "\n",
    "# This function adds two numbers\n",
    "def add(a, b):\n",
    "    return a + b\n",
    "\n",
    "# This function subtracts two numbers\n",
    "def subtract(a , b):\n",
    "    return a - b\n",
    "\n",
    "# This function multiplies two numbers\n",
    "def multiply(a, b):\n",
    "    return a * b\n",
    "\n",
    "# This function divides two numbers\n",
    "def divide(a, b):\n",
    "    return a / b\n",
    "\n",
    "def pow(a, b):\n",
    "    return a ** b\n",
    "\n",
    "\n",
    "print(\"Select operation.\")\n",
    "print(\"1.Add\")\n",
    "print(\"2.Subtract\")\n",
    "print(\"3.Multiply\")\n",
    "print(\"4.Divide\")\n",
    "print(\"5.Power\")\n",
    "\n",
    "while True:\n",
    "    # take input from the user\n",
    "    choice = input(\"Enter choice(1/2/3/4/5): \")\n",
    "\n",
    "    # check if choice is one of the four options\n",
    "    if choice in ('1', '2', '3', '4','5'):\n",
    "        num1 = float(input(\"Enter first number: \"))\n",
    "        num2 = float(input(\"Enter second number: \"))\n",
    "\n",
    "        if choice == '1':\n",
    "            print(num1, \"+\", num2, \"=\", add(num1, num2))\n",
    "\n",
    "        elif choice == '2':\n",
    "            print(num1, \"-\", num2, \"=\", subtract(num1, num2))\n",
    "\n",
    "        elif choice == '3':\n",
    "            print(num1, \"*\", num2, \"=\", multiply(num1, num2))\n",
    "\n",
    "        elif choice == '4':\n",
    "            print(num1, \"/\", num2, \"=\", divide(num1, num2))\n",
    "        \n",
    "        elif choice == '5':\n",
    "            print(num1, \"**\", num2, \"=\", pow(num1, num2))\n",
    "\n",
    "        \n",
    "        # check if user wants another calculation\n",
    "        # break the while loop if answer is no\n",
    "        next_calculation = input(\"Let's do next calculation? (yes/no): \")\n",
    "        if next_calculation == \"no\":\n",
    "          break\n",
    "    \n",
    "    else:\n",
    "        print(\"Invalid Input\")"
   ]
  },
  {
   "cell_type": "markdown",
   "id": "80994601",
   "metadata": {},
   "source": [
    "## 2. Write a program to check if there is any numeric value in list using for loop."
   ]
  },
  {
   "cell_type": "code",
   "execution_count": 4,
   "id": "7ba8e5e7",
   "metadata": {},
   "outputs": [
    {
     "name": "stdout",
     "output_type": "stream",
     "text": [
      "4\n"
     ]
    }
   ],
   "source": [
    "list = [\"ab\", \"cd\", 4, \"ef\"] \n",
    "for x in list: \n",
    "    if type(x) == int: \n",
    "        print(x)"
   ]
  },
  {
   "cell_type": "markdown",
   "id": "0b27ad35",
   "metadata": {},
   "source": [
    "## 3. Write a Python script to add a key to a dictionary."
   ]
  },
  {
   "cell_type": "code",
   "execution_count": 5,
   "id": "fbb622a4",
   "metadata": {},
   "outputs": [
    {
     "name": "stdout",
     "output_type": "stream",
     "text": [
      "Updated Dict is:  {'key1': 'Ejaz', 'key2': 'Hussain', 'key3': 'Sabri'}\n"
     ]
    }
   ],
   "source": [
    "d = {'key1':'Ejaz', 'key2':'Hussain'}\n",
    " \n",
    "# adding key3\n",
    "d.update({'key3':'Sabri'})\n",
    "print(\"Updated Dict is: \", d)"
   ]
  },
  {
   "cell_type": "markdown",
   "id": "b3fcbc1b",
   "metadata": {},
   "source": [
    "## 4. Write a Python program to sum all the numeric items in a dictionary."
   ]
  },
  {
   "cell_type": "code",
   "execution_count": 6,
   "id": "74f3c29c",
   "metadata": {},
   "outputs": [
    {
     "name": "stdout",
     "output_type": "stream",
     "text": [
      "62\n"
     ]
    }
   ],
   "source": [
    "d = {'key1': 1,'key2': 14,'key3': 47}\n",
    "sum1 = sum(d[item] for item in d)\n",
    "print(sum1)"
   ]
  },
  {
   "cell_type": "markdown",
   "id": "1c3f1d4f",
   "metadata": {},
   "source": [
    "## 5. Write a program to identify duplicate values from list."
   ]
  },
  {
   "cell_type": "code",
   "execution_count": 7,
   "id": "6f4a3cc3",
   "metadata": {},
   "outputs": [
    {
     "name": "stdout",
     "output_type": "stream",
     "text": [
      "Duplicate elements in given array: \n",
      "2\n",
      "3\n",
      "8\n"
     ]
    }
   ],
   "source": [
    "#Initialize array     \n",
    "arr = [1, 2, 3, 4, 2, 7, 8, 8, 3];     \n",
    "     \n",
    "print(\"Duplicate elements in given array: \");    \n",
    "#Searches for duplicate element    \n",
    "for i in range(0, len(arr)):    \n",
    "    for j in range(i+1, len(arr)):    \n",
    "        if(arr[i] == arr[j]):    \n",
    "            print(arr[j]);"
   ]
  },
  {
   "cell_type": "markdown",
   "id": "cc94501d",
   "metadata": {},
   "source": [
    "## 6. Write a Python script to check if a given key already exists in a dictionary"
   ]
  },
  {
   "cell_type": "code",
   "execution_count": 8,
   "id": "265153d3",
   "metadata": {},
   "outputs": [
    {
     "name": "stdout",
     "output_type": "stream",
     "text": [
      "Enter key to check:C\n",
      "Key is present and value of the key is:\n",
      "3\n"
     ]
    }
   ],
   "source": [
    "d={'A':1,'B':2,'C':3}\n",
    "key=input(\"Enter key to check:\")\n",
    "if key in d.keys():\n",
    "      print(\"Key is present and value of the key is:\")\n",
    "      print(d[key])\n",
    "else:\n",
    "      print(\"Key isn't present!\")"
   ]
  },
  {
   "cell_type": "code",
   "execution_count": null,
   "id": "ab867183",
   "metadata": {},
   "outputs": [],
   "source": []
  }
 ],
 "metadata": {
  "kernelspec": {
   "display_name": "Python 3",
   "language": "python",
   "name": "python3"
  },
  "language_info": {
   "codemirror_mode": {
    "name": "ipython",
    "version": 3
   },
   "file_extension": ".py",
   "mimetype": "text/x-python",
   "name": "python",
   "nbconvert_exporter": "python",
   "pygments_lexer": "ipython3",
   "version": "3.8.8"
  }
 },
 "nbformat": 4,
 "nbformat_minor": 5
}
